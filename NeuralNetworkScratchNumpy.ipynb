{
 "cells": [
  {
   "cell_type": "markdown",
   "id": "85dec0a6-176f-4c00-a3c8-c30247a91839",
   "metadata": {},
   "source": [
    "### Artificial Neural Network from Scratch"
   ]
  },
  {
   "cell_type": "markdown",
   "id": "85849129-e339-40e4-9eba-9b9cf9817e15",
   "metadata": {},
   "source": [
    "Implement a neural network with NumPy using binary classification. "
   ]
  },
  {
   "cell_type": "code",
   "execution_count": 29,
   "id": "dbba8dc4-45a9-418c-b4fe-2d7d772ea728",
   "metadata": {},
   "outputs": [],
   "source": [
    "import numpy as np\n",
    "import sklearn\n",
    "import sklearn.datasets\n",
    "from sklearn.model_selection import train_test_split\n",
    "from sklearn.metrics import roc_curve, auc\n",
    "from sklearn.metrics import accuracy_score\n",
    "import pandas as pd\n",
    "import plotly.express as px\n",
    "import time\n",
    "import matplotlib.pyplot as plt\n",
    "%matplotlib inline\n",
    "import matplotlib\n",
    "matplotlib.rcParams['figure.figsize'] = (5.0, 4.0)"
   ]
  },
  {
   "cell_type": "code",
   "execution_count": 61,
   "id": "c485b24a-2222-48f9-900b-358eab1b0981",
   "metadata": {},
   "outputs": [
    {
     "data": {
      "text/plain": [
       "<matplotlib.collections.PathCollection at 0x276d0c3a950>"
      ]
     },
     "execution_count": 61,
     "metadata": {},
     "output_type": "execute_result"
    },
    {
     "data": {
      "image/png": "[encoded data removed]",
      "text/plain": [
       "<Figure size 500x400 with 1 Axes>"
      ]
     },
     "metadata": {},
     "output_type": "display_data"
    }
   ],
   "source": [
    "# Generate dataset\n",
    "# We use the simple toy dataset sklearn.datasets.make_moons.\n",
    "# The function has the following parameters: 1) n_samples: Total number of generated points; \n",
    "# 2) noise: Standard deviation of Gaussian noise added to the data\n",
    "# 3) random_state: Seed for reproducible output\n",
    "\n",
    "n = 20\n",
    "data_seed = 4242   # choose seed value\n",
    "\n",
    "X, y = sklearn.datasets.make_moons(\n",
    "    n_samples = n, \n",
    "    noise = 0.25, \n",
    "    random_state = data_seed)\n",
    "\n",
    "plt.scatter(\n",
    "    x = X[:,0], \n",
    "    y = X[:,1], \n",
    "    s = 40,   # marker size \n",
    "    c = y)    # color by "
   ]
  },
  {
   "cell_type": "code",
   "execution_count": 62,
   "id": "4bc7b1d0-772f-4a65-81bf-2711ed53d99f",
   "metadata": {},
   "outputs": [
    {
     "data": {
      "text/plain": [
       "(array([[-0.88416012,  0.81152868],\n",
       "        [-0.96002879,  0.56556449],\n",
       "        [ 1.85874063, -0.00733803],\n",
       "        [ 0.00764831,  1.05233801],\n",
       "        [ 0.41849945, -0.5799713 ],\n",
       "        [ 0.13869329,  0.81585066],\n",
       "        [ 1.34215458, -0.51790117],\n",
       "        [ 1.75641418, -0.43888248],\n",
       "        [-0.77740569,  0.02605077],\n",
       "        [-0.03057186,  1.28527143],\n",
       "        [ 1.95392449,  0.31548605],\n",
       "        [-1.40805091,  0.24901532],\n",
       "        [ 0.60149834,  1.12853398],\n",
       "        [-0.17373403,  0.08702362],\n",
       "        [ 0.77983706,  0.5113426 ],\n",
       "        [ 1.12450899, -0.42540832],\n",
       "        [ 0.84391719,  0.6046485 ],\n",
       "        [ 0.34686366, -0.46010923],\n",
       "        [ 2.13531694,  0.65504985],\n",
       "        [ 0.74766545, -0.39166277]]),\n",
       " array([0, 0, 1, 0, 1, 1, 1, 1, 0, 0, 1, 0, 0, 1, 0, 0, 0, 1, 1, 1],\n",
       "       dtype=int64))"
      ]
     },
     "execution_count": 62,
     "metadata": {},
     "output_type": "execute_result"
    }
   ],
   "source": [
    "X,y"
   ]
  },
  {
   "cell_type": "code",
   "execution_count": 63,
   "id": "0a7aeec2-298e-4f50-9d01-7b93c107ac33",
   "metadata": {},
   "outputs": [],
   "source": [
    "# Split the dataset\n",
    "#use the train_test_split() function of the sklearn package to create \n",
    "# our training and test dataset with labels\n",
    "# The function has the following parameters: 1) X: The moons dataset, \n",
    "# 2) y: The labels; 3) test_size: Size of the test dataset in percent\n",
    "# 4) random_size: Seed for reproducible output\n",
    "\n",
    "test_size = 0.25\n",
    "split_seed = 42 # choose split seed value\n",
    "\n",
    "X_train, X_test, y_train, y_test = train_test_split(\n",
    "    X,\n",
    "    y,\n",
    "    test_size = test_size,\n",
    "    random_state = split_seed)"
   ]
  },
  {
   "cell_type": "code",
   "execution_count": 64,
   "id": "db5f7b93-2cf3-4e9c-bef6-c6f71b5e716b",
   "metadata": {},
   "outputs": [],
   "source": [
    "#  Define helper functions\n",
    "# activation function (sigmod) and the derivation function (sigmod')\n",
    "# The function sigmoid(z, derivation=FALSE) calculates for a value x \n",
    "# the result for the sigmoid or the derivation of the sigmoid.\n",
    "def sigmoid(z, derivation = False):\n",
    "    if derivation:\n",
    "        return sigmoid(z)*(1-sigmoid(z))\n",
    "    else:\n",
    "        return 1/(1+np.exp(-z))\n",
    "\n",
    "# cost function (Mean squared error function)\n",
    "# In the function calculate_loss(), we calculate the squared error function. \n",
    "def calculate_loss(model, X, y):    \n",
    "    # extract model parameters\n",
    "    W1, b1, W2, b2 = model['W1'], model['b1'], model['W2'], model['b2']\n",
    "\n",
    "    # calculation of the estimated class probabilities\n",
    "    ## calc hidden layer\n",
    "    a1 = X.dot(W1) + b1\n",
    "    h1 = sigmoid(a1)\n",
    "\n",
    "    ## calc output layer\n",
    "    a2 = h1.dot(W2) + b2\n",
    "    probs = sigmoid(a2)[:,0]\n",
    "    \n",
    "    # calculation of the cost function value\n",
    "    cost = np.power(y-probs,2)\n",
    "    cost = np.sum(cost)/2\n",
    "\n",
    "    return cost\n",
    "\n",
    "# predict function\n",
    "# In the predict function, we perform feed-forward propagation.\n",
    "def predict(\n",
    "        model, \n",
    "        x,\n",
    "        proba = False,\n",
    "        decision_point = 0.5):\n",
    "    \n",
    "    # extract model parameters\n",
    "    W1, b1, W2, b2 = model['W1'], model['b1'], model['W2'], model['b2']\n",
    "\n",
    "    # calculation of the estimated class probabilities (Forward Propagation)\n",
    "    ## calc hidden layer\n",
    "    a1 = x.dot(W1) + b1\n",
    "    h1 = sigmoid(a1)\n",
    "\n",
    "    ## calc output layer\n",
    "    a2 = h1.dot(W2) + b2\n",
    "    probs = sigmoid(a2)\n",
    "    \n",
    "    if(proba):\n",
    "        return probs\n",
    "\n",
    "    return (probs>decision_point)*1"
   ]
  },
  {
   "cell_type": "code",
   "execution_count": 65,
   "id": "ba4c4811-b5d9-4990-b21f-95e7053fa515",
   "metadata": {},
   "outputs": [],
   "source": [
    "# Modeling\n",
    "# Design our neural network.We create a network with only one hidden layer. \n",
    "# The function build_neural_network() receives as input variables our training data X_train,\n",
    "# the labels y_train, the number of gradient descent iterations, the learning_rate, \n",
    "# a seed for reproducibility, the number of hidden nodes, and a value for initialising the weights.\n",
    "\n",
    "def build_neural_network(\n",
    "        X,                              # features\n",
    "        y,                              # target\n",
    "        iterations = 20000,             # number of gradient descent iterations\n",
    "        learning_rate = 0.1,            # learning rate of Gradient descent\n",
    "        random_state = None,            # random seed of weights \n",
    "        hidden_nodes = 5,               # number of hidden nodes\n",
    "        rand_range = 0.05):             # initialise the weights\n",
    "\n",
    "    observations = X.shape[0] # number of observations\n",
    "    features = X.shape[1] # number of features\n",
    "\n",
    "# initialise the parameters to random values:\n",
    "    np.random.seed(random_state)\n",
    "    W1 = np.random.uniform(low = -rand_range, \n",
    "                       high = rand_range, \n",
    "                       size= (features,hidden_nodes)) # (2,10)\n",
    "    b1 = np.zeros((1,hidden_nodes))   # (1,10)\n",
    "\n",
    "    W2 = np.random.uniform(low = -rand_range, \n",
    "                       high = rand_range, \n",
    "                       size= (hidden_nodes,1)) # (10, 1)\n",
    "    b2 = np.zeros((1,1))   # (1,1)\n",
    "\n",
    "# this is what we return at the end\n",
    "    model = {}\n",
    "\n",
    "# Gradient descent:\n",
    "    for i in range(0, iterations):\n",
    "    # Forward propagation\n",
    "    ## calc hidden layer\n",
    "        a1 = X.dot(W1) + b1   # X: (750, 2), W1: (2,10), a1: (750, 10)\n",
    "        h1 = sigmoid(a1)   # z1: (750, 10)\n",
    "    \n",
    "    ## calc output layer\n",
    "        a2 = h1.dot(W2) + b2   # z1: (750, 10), W2: (10, 1), a2: (750, 1)\n",
    "        probs = sigmoid(a2)   # probs: (750, 1)\n",
    "\n",
    "    # Backpropagation     \n",
    "    # y.reshape: (750,1), probs: (750, 1), delta1: (750, 1)\n",
    "        delta1 = (probs-y.reshape((observations,1))) * probs * (1 - probs)   # g(a_k)*(1-g(a_k))*(g(a_k)-t_k^n)\n",
    "   \n",
    "        dW2 = np.dot(h1.T, delta1)   # z1.T: (10, 750), delta1: (750,1), dW2: (10,1)\n",
    "        db2 = np.sum(delta1, axis=0, keepdims=True)  # delta1: (750,1), db2: (1, 1)\n",
    "    \n",
    "        delta_j = delta1 * W2.T * h1 * (1 - h1)   # delta1: (750,1), W2.T: (1,10), z1: (750,10), delta_j: (750,10)\n",
    "\n",
    "        dW1 = np.dot(X.T, delta_j)   # X.T: (2, 750), delta_j: (750,10), dW1: (750,1)\n",
    "        db1 = np.sum(delta_j, axis=0) # delta_j: (750,10), db1: (10,1)\n",
    "\n",
    "    # Gradient descent parameter update\n",
    "        W1 += -learning_rate * dW1  # dW1: (750,1) \n",
    "  \n",
    "        b1 += -learning_rate * db1  # db1: (10,1)\n",
    "    \n",
    "        W2 += -learning_rate * dW2\n",
    "        b2 += -learning_rate * db2\n",
    "    \n",
    "    # assign new parameters to the model\n",
    "        model = { 'W1': W1, 'b1': b1, 'W2': W2, 'b2': b2}\n",
    "    \n",
    "        if i % 100 == 0:\n",
    "            print(\"Loss after iteration %7d:\\t%f\" %(i, calculate_loss(model,X,y)))\n",
    "    return model\n",
    "\n",
    "# Train the neural network\n",
    "    model = build_neural_network(X = X_train,\n",
    "                    y = y_train, \n",
    "                    iterations = 20000,\n",
    "                    random_state = 4242,\n",
    "                    hidden_nodes = 5,\n",
    "                    learning_rate = 0.1,\n",
    "                    rand_range = 0.1)\n"
   ]
  },
  {
   "cell_type": "code",
   "execution_count": 66,
   "id": "0213edcd-1ba2-41f7-ba40-b6695627e2fb",
   "metadata": {},
   "outputs": [
    {
     "name": "stdout",
     "output_type": "stream",
     "text": [
      "              precision    recall  f1-score   support\n",
      "\n",
      "           0       1.00      0.75      0.86         4\n",
      "           1       0.50      1.00      0.67         1\n",
      "\n",
      "    accuracy                           0.80         5\n",
      "   macro avg       0.75      0.88      0.76         5\n",
      "weighted avg       0.90      0.80      0.82         5\n",
      "\n"
     ]
    }
   ],
   "source": [
    "# Evaluation\n",
    "# Classification Report.\n",
    "# The trained neural network has a weighted avg recall and precision of ¿?. \n",
    "from sklearn.metrics import classification_report\n",
    "\n",
    "predictions = predict(model, X_test)\n",
    "\n",
    "print(classification_report(y_test, predictions))"
   ]
  },
  {
   "cell_type": "code",
   "execution_count": 67,
   "id": "19126238-2cfb-4a2d-b9dd-946c869829ba",
   "metadata": {},
   "outputs": [
    {
     "name": "stdout",
     "output_type": "stream",
     "text": [
      "Loss after iteration       0:\t1.875586\n",
      "Loss after iteration     100:\t1.517456\n",
      "Loss after iteration     200:\t0.882122\n",
      "Loss after iteration     300:\t0.766919\n",
      "Loss after iteration     400:\t0.727978\n",
      "Loss after iteration     500:\t0.706837\n",
      "Loss after iteration     600:\t0.692045\n",
      "Loss after iteration     700:\t0.680054\n",
      "Loss after iteration     800:\t0.669481\n",
      "Loss after iteration     900:\t0.659715\n",
      "Loss after iteration    1000:\t0.650462\n",
      "Loss after iteration    1100:\t0.641578\n",
      "Loss after iteration    1200:\t0.632998\n",
      "Loss after iteration    1300:\t0.624699\n",
      "Loss after iteration    1400:\t0.616685\n",
      "Loss after iteration    1500:\t0.608974\n",
      "Loss after iteration    1600:\t0.601588\n",
      "Loss after iteration    1700:\t0.594547\n",
      "Loss after iteration    1800:\t0.587870\n",
      "Loss after iteration    1900:\t0.581567\n",
      "Loss after iteration    2000:\t0.575643\n",
      "Loss after iteration    2100:\t0.570097\n",
      "Loss after iteration    2200:\t0.564921\n",
      "Loss after iteration    2300:\t0.560105\n",
      "Loss after iteration    2400:\t0.555632\n",
      "Loss after iteration    2500:\t0.551488\n",
      "Loss after iteration    2600:\t0.547655\n",
      "Loss after iteration    2700:\t0.544115\n",
      "Loss after iteration    2800:\t0.540850\n",
      "Loss after iteration    2900:\t0.537841\n",
      "Loss after iteration    3000:\t0.535069\n",
      "Loss after iteration    3100:\t0.532515\n",
      "Loss after iteration    3200:\t0.530160\n",
      "Loss after iteration    3300:\t0.527987\n",
      "Loss after iteration    3400:\t0.525976\n",
      "Loss after iteration    3500:\t0.524112\n",
      "Loss after iteration    3600:\t0.522378\n",
      "Loss after iteration    3700:\t0.520760\n",
      "Loss after iteration    3800:\t0.519243\n",
      "Loss after iteration    3900:\t0.517815\n",
      "Loss after iteration    4000:\t0.516465\n",
      "Loss after iteration    4100:\t0.515182\n",
      "Loss after iteration    4200:\t0.513955\n",
      "Loss after iteration    4300:\t0.512776\n",
      "Loss after iteration    4400:\t0.511636\n",
      "Loss after iteration    4500:\t0.510527\n",
      "Loss after iteration    4600:\t0.509441\n",
      "Loss after iteration    4700:\t0.508371\n",
      "Loss after iteration    4800:\t0.507312\n",
      "Loss after iteration    4900:\t0.506256\n",
      "Loss after iteration    5000:\t0.505200\n",
      "Loss after iteration    5100:\t0.504138\n",
      "Loss after iteration    5200:\t0.503067\n",
      "Loss after iteration    5300:\t0.501985\n",
      "Loss after iteration    5400:\t0.500890\n",
      "Loss after iteration    5500:\t0.499782\n",
      "Loss after iteration    5600:\t0.498663\n",
      "Loss after iteration    5700:\t0.497533\n",
      "Loss after iteration    5800:\t0.496398\n",
      "Loss after iteration    5900:\t0.495260\n",
      "Loss after iteration    6000:\t0.494123\n",
      "Loss after iteration    6100:\t0.492992\n",
      "Loss after iteration    6200:\t0.491871\n",
      "Loss after iteration    6300:\t0.490763\n",
      "Loss after iteration    6400:\t0.489671\n",
      "Loss after iteration    6500:\t0.488596\n",
      "Loss after iteration    6600:\t0.487541\n",
      "Loss after iteration    6700:\t0.486506\n",
      "Loss after iteration    6800:\t0.485492\n",
      "Loss after iteration    6900:\t0.484501\n",
      "Loss after iteration    7000:\t0.483531\n",
      "Loss after iteration    7100:\t0.482583\n",
      "Loss after iteration    7200:\t0.481658\n",
      "Loss after iteration    7300:\t0.480756\n",
      "Loss after iteration    7400:\t0.479875\n",
      "Loss after iteration    7500:\t0.479016\n",
      "Loss after iteration    7600:\t0.478179\n",
      "Loss after iteration    7700:\t0.477364\n",
      "Loss after iteration    7800:\t0.476569\n",
      "Loss after iteration    7900:\t0.475795\n",
      "Loss after iteration    8000:\t0.475041\n",
      "Loss after iteration    8100:\t0.474307\n",
      "Loss after iteration    8200:\t0.473592\n",
      "Loss after iteration    8300:\t0.472895\n",
      "Loss after iteration    8400:\t0.472216\n",
      "Loss after iteration    8500:\t0.471554\n",
      "Loss after iteration    8600:\t0.470909\n",
      "Loss after iteration    8700:\t0.470281\n",
      "Loss after iteration    8800:\t0.469668\n",
      "Loss after iteration    8900:\t0.469070\n",
      "Loss after iteration    9000:\t0.468487\n",
      "Loss after iteration    9100:\t0.467917\n",
      "Loss after iteration    9200:\t0.467362\n",
      "Loss after iteration    9300:\t0.466819\n",
      "Loss after iteration    9400:\t0.466289\n",
      "Loss after iteration    9500:\t0.465770\n",
      "Loss after iteration    9600:\t0.465264\n",
      "Loss after iteration    9700:\t0.464768\n",
      "Loss after iteration    9800:\t0.464284\n",
      "Loss after iteration    9900:\t0.463810\n"
     ]
    }
   ],
   "source": [
    "#Experiments\n",
    "# Default Setup for every experiment\n",
    "# Gradient descent iterations: 10000\n",
    "# hidden nodes: 5\n",
    "# learning rate: 0.1\n",
    "\n",
    "model = build_neural_network(X = X_train,\n",
    "                    y = y_train, \n",
    "                    iterations = 10000,\n",
    "                    random_state = 4242,\n",
    "                    hidden_nodes = 5,\n",
    "                    learning_rate = 0.1,\n",
    "                    rand_range = 0.1)"
   ]
  },
  {
   "cell_type": "markdown",
   "id": "d0fe6575-9ecd-4ae5-996d-48442f323db6",
   "metadata": {},
   "source": [
    "Source:\n",
    "\n",
    "https://hub.tinztwins.de/p/understand-and-implement-an-artificial"
   ]
  },
  {
   "cell_type": "markdown",
   "id": "b04d00e1-004f-4243-9f05-5e23f4577d4c",
   "metadata": {},
   "source": [
    "Example. Real data"
   ]
  },
  {
   "cell_type": "code",
   "execution_count": 103,
   "id": "c7f23bef-6e06-43dc-97b5-96e42437c6f9",
   "metadata": {},
   "outputs": [
    {
     "data": {
      "text/plain": [
       "array([[-1.78 , -1.71 ],\n",
       "       [-0.86 ,  0.66 ],\n",
       "       [ 1.95 , -0.073],\n",
       "       [ 0.76 ,  1.15 ],\n",
       "       [ 0.71 ,  1.97 ]])"
      ]
     },
     "execution_count": 103,
     "metadata": {},
     "output_type": "execute_result"
    }
   ],
   "source": [
    "data=np.array([[-1.78,  -1.71],\n",
    "        [-0.86,  0.66],\n",
    "        [ 1.95, -0.073],\n",
    "        [ 0.76,  1.15],\n",
    "        [ 0.71, 1.97]])\n",
    "data"
   ]
  },
  {
   "cell_type": "code",
   "execution_count": 104,
   "id": "cdb52b54-3ba8-42ba-9b44-249a98a020e7",
   "metadata": {},
   "outputs": [
    {
     "data": {
      "text/plain": [
       "array([[1],\n",
       "       [0],\n",
       "       [1],\n",
       "       [0],\n",
       "       [0]])"
      ]
     },
     "execution_count": 104,
     "metadata": {},
     "output_type": "execute_result"
    }
   ],
   "source": [
    "p=predict(model, data)\n",
    "p"
   ]
  },
  {
   "cell_type": "code",
   "execution_count": 105,
   "id": "fd1e97a9-781e-4fa1-adc7-386368e3fa6a",
   "metadata": {},
   "outputs": [
    {
     "data": {
      "text/plain": [
       "<matplotlib.collections.PathCollection at 0x276d0de25d0>"
      ]
     },
     "execution_count": 105,
     "metadata": {},
     "output_type": "execute_result"
    },
    {
     "data": {
      "image/png": "[encoded data removed]",
      "text/plain": [
       "<Figure size 500x400 with 1 Axes>"
      ]
     },
     "metadata": {},
     "output_type": "display_data"
    }
   ],
   "source": [
    "plt.scatter(\n",
    "    x = data[:,0], \n",
    "    y = data[:,1], \n",
    "    s = 40,   # marker size \n",
    "    c = p)    # color by "
   ]
  },
  {
   "cell_type": "code",
   "execution_count": null,
   "id": "704ba85f-ea79-48ac-a017-773d4b51930a",
   "metadata": {},
   "outputs": [],
   "source": []
  }
 ],
 "metadata": {
  "kernelspec": {
   "display_name": "Python 3 (ipykernel)",
   "language": "python",
   "name": "python3"
  },
  "language_info": {
   "codemirror_mode": {
    "name": "ipython",
    "version": 3
   },
   "file_extension": ".py",
   "mimetype": "text/x-python",
   "name": "python",
   "nbconvert_exporter": "python",
   "pygments_lexer": "ipython3",
   "version": "3.11.1"
  }
 },
 "nbformat": 4,
 "nbformat_minor": 5
}
